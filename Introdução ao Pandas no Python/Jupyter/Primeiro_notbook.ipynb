{
 "cells": [
  {
   "cell_type": "markdown",
   "id": "2323059a-8811-4e0e-a00e-ac5a4fc739bb",
   "metadata": {
    "panel-layout": {
     "height": 60.59375,
     "visible": true,
     "width": 100
    }
   },
   "source": [
    "# Aqui vou fazer meus primeiros codigos em python usando a biblioteca pandas\n"
   ]
  },
  {
   "cell_type": "markdown",
   "id": "b7b294f9-74a8-4d6e-a7f0-490d6dc64cde",
   "metadata": {
    "panel-layout": {
     "height": 50.796875,
     "visible": true,
     "width": 100
    }
   },
   "source": [
    "## Importando o pandas"
   ]
  },
  {
   "cell_type": "code",
   "execution_count": 14,
   "id": "07dd77bc-81a7-4643-8232-6a2f05710b25",
   "metadata": {},
   "outputs": [],
   "source": [
    "import pandas as pd # Renomeamos o pandas para pd apenas para ficar mais simples o código"
   ]
  },
  {
   "cell_type": "markdown",
   "id": "51a1659b-03db-438b-8573-65ba955ff249",
   "metadata": {
    "panel-layout": {
     "height": 50.796875,
     "visible": true,
     "width": 100
    }
   },
   "source": [
    "## Criando dataframes"
   ]
  },
  {
   "cell_type": "code",
   "execution_count": 2,
   "id": "6e704df5-8e16-4ac7-a5ca-3f77eec54e42",
   "metadata": {},
   "outputs": [],
   "source": [
    "dataframe = pd.DataFrame () # Criamos um dataframe fazio"
   ]
  },
  {
   "cell_type": "code",
   "execution_count": 6,
   "id": "3cc88d85-183c-4ff7-8ad0-99437f3dd7bb",
   "metadata": {},
   "outputs": [],
   "source": [
    "# Dicionario\n",
    "venda = {\"data\": [\"12/08/2024\", \"13/08/2024\"],\n",
    "         \"valor\": [500, 300],\n",
    "         \"produto\": [\"feijão\", \"arroz\"],\n",
    "         \"qtde\": [50, 70]\n",
    "        }\n",
    "vendas_df = pd.DataFrame (venda) # Criamos um dataframe chamado vendas_df usando o dicionario vendas\n",
    "                                 # Usamos o sufixo _df apenas para ficar mais explicito que se trata de um dataframe"
   ]
  },
  {
   "cell_type": "markdown",
   "id": "3aa81777-2c06-42e5-a7e0-c2dfdbcbe0fd",
   "metadata": {
    "panel-layout": {
     "height": 50.796875,
     "visible": true,
     "width": 100
    }
   },
   "source": [
    "## Visualizando um dataframe"
   ]
  },
  {
   "cell_type": "code",
   "execution_count": 7,
   "id": "52efce16-e408-4da2-ade1-acbe8f8ddf83",
   "metadata": {
    "panel-layout": {
     "height": 0,
     "visible": true,
     "width": 100
    }
   },
   "outputs": [
    {
     "name": "stdout",
     "output_type": "stream",
     "text": [
      "         data  valor produto  qtde\n",
      "0  12/08/2024    500  feijão    50\n",
      "1  13/08/2024    300   arroz    70\n"
     ]
    }
   ],
   "source": [
    "print (vendas_df)"
   ]
  },
  {
   "cell_type": "code",
   "execution_count": 8,
   "id": "885d3ca2-1a40-46d5-aac4-b66663b967c2",
   "metadata": {
    "panel-layout": {
     "height": 92,
     "visible": true,
     "width": 100
    }
   },
   "outputs": [
    {
     "data": {
      "text/html": [
       "<div>\n",
       "<style scoped>\n",
       "    .dataframe tbody tr th:only-of-type {\n",
       "        vertical-align: middle;\n",
       "    }\n",
       "\n",
       "    .dataframe tbody tr th {\n",
       "        vertical-align: top;\n",
       "    }\n",
       "\n",
       "    .dataframe thead th {\n",
       "        text-align: right;\n",
       "    }\n",
       "</style>\n",
       "<table border=\"1\" class=\"dataframe\">\n",
       "  <thead>\n",
       "    <tr style=\"text-align: right;\">\n",
       "      <th></th>\n",
       "      <th>data</th>\n",
       "      <th>valor</th>\n",
       "      <th>produto</th>\n",
       "      <th>qtde</th>\n",
       "    </tr>\n",
       "  </thead>\n",
       "  <tbody>\n",
       "    <tr>\n",
       "      <th>0</th>\n",
       "      <td>12/08/2024</td>\n",
       "      <td>500</td>\n",
       "      <td>feijão</td>\n",
       "      <td>50</td>\n",
       "    </tr>\n",
       "    <tr>\n",
       "      <th>1</th>\n",
       "      <td>13/08/2024</td>\n",
       "      <td>300</td>\n",
       "      <td>arroz</td>\n",
       "      <td>70</td>\n",
       "    </tr>\n",
       "  </tbody>\n",
       "</table>\n",
       "</div>"
      ],
      "text/plain": [
       "         data  valor produto  qtde\n",
       "0  12/08/2024    500  feijão    50\n",
       "1  13/08/2024    300   arroz    70"
      ]
     },
     "metadata": {},
     "output_type": "display_data"
    }
   ],
   "source": [
    "display (vendas_df)"
   ]
  },
  {
   "cell_type": "markdown",
   "id": "4d9f4386-3088-42bf-a389-3291858c2bd9",
   "metadata": {
    "panel-layout": {
     "height": 161.671875,
     "visible": true,
     "width": 100
    }
   },
   "source": [
    "### print vs display\n",
    "#### print \n",
    "Usar apenas o print retorna na tela apelas os dados em formato de tabelas no prompt de comando\n",
    "#### display\n",
    "Já os display retorna os dados tambem em uma tabela mas desssa vez melhor formatado e mais amigavel ao olhar"
   ]
  },
  {
   "cell_type": "markdown",
   "id": "a53d8b57-75a9-43f2-b626-5b2c19dcfe4e",
   "metadata": {},
   "source": [
    "## Importando arquivos e bases de dados"
   ]
  },
  {
   "cell_type": "code",
   "execution_count": 17,
   "id": "0f9514cf-a3f3-4983-8655-393fe873b3f3",
   "metadata": {},
   "outputs": [
    {
     "data": {
      "text/html": [
       "<div>\n",
       "<style scoped>\n",
       "    .dataframe tbody tr th:only-of-type {\n",
       "        vertical-align: middle;\n",
       "    }\n",
       "\n",
       "    .dataframe tbody tr th {\n",
       "        vertical-align: top;\n",
       "    }\n",
       "\n",
       "    .dataframe thead th {\n",
       "        text-align: right;\n",
       "    }\n",
       "</style>\n",
       "<table border=\"1\" class=\"dataframe\">\n",
       "  <thead>\n",
       "    <tr style=\"text-align: right;\">\n",
       "      <th></th>\n",
       "      <th>Código Venda</th>\n",
       "      <th>Data</th>\n",
       "      <th>ID Loja</th>\n",
       "      <th>Produto</th>\n",
       "      <th>Quantidade</th>\n",
       "      <th>Valor Unitário</th>\n",
       "      <th>Valor Final</th>\n",
       "    </tr>\n",
       "  </thead>\n",
       "  <tbody>\n",
       "    <tr>\n",
       "      <th>0</th>\n",
       "      <td>1</td>\n",
       "      <td>2019-01-01</td>\n",
       "      <td>Iguatemi Esplanada</td>\n",
       "      <td>Sapato Estampa</td>\n",
       "      <td>1</td>\n",
       "      <td>358</td>\n",
       "      <td>358</td>\n",
       "    </tr>\n",
       "    <tr>\n",
       "      <th>1</th>\n",
       "      <td>1</td>\n",
       "      <td>2019-01-01</td>\n",
       "      <td>Iguatemi Esplanada</td>\n",
       "      <td>Camiseta</td>\n",
       "      <td>2</td>\n",
       "      <td>180</td>\n",
       "      <td>360</td>\n",
       "    </tr>\n",
       "    <tr>\n",
       "      <th>2</th>\n",
       "      <td>1</td>\n",
       "      <td>2019-01-01</td>\n",
       "      <td>Iguatemi Esplanada</td>\n",
       "      <td>Sapato Xadrez</td>\n",
       "      <td>1</td>\n",
       "      <td>368</td>\n",
       "      <td>368</td>\n",
       "    </tr>\n",
       "    <tr>\n",
       "      <th>3</th>\n",
       "      <td>2</td>\n",
       "      <td>2019-01-02</td>\n",
       "      <td>Norte Shopping</td>\n",
       "      <td>Relógio</td>\n",
       "      <td>3</td>\n",
       "      <td>200</td>\n",
       "      <td>600</td>\n",
       "    </tr>\n",
       "    <tr>\n",
       "      <th>4</th>\n",
       "      <td>2</td>\n",
       "      <td>2019-01-02</td>\n",
       "      <td>Norte Shopping</td>\n",
       "      <td>Chinelo Liso</td>\n",
       "      <td>1</td>\n",
       "      <td>71</td>\n",
       "      <td>71</td>\n",
       "    </tr>\n",
       "    <tr>\n",
       "      <th>...</th>\n",
       "      <td>...</td>\n",
       "      <td>...</td>\n",
       "      <td>...</td>\n",
       "      <td>...</td>\n",
       "      <td>...</td>\n",
       "      <td>...</td>\n",
       "      <td>...</td>\n",
       "    </tr>\n",
       "    <tr>\n",
       "      <th>100994</th>\n",
       "      <td>69996</td>\n",
       "      <td>2019-12-26</td>\n",
       "      <td>Center Shopping Uberlândia</td>\n",
       "      <td>Short Listrado</td>\n",
       "      <td>2</td>\n",
       "      <td>102</td>\n",
       "      <td>204</td>\n",
       "    </tr>\n",
       "    <tr>\n",
       "      <th>100995</th>\n",
       "      <td>69996</td>\n",
       "      <td>2019-12-26</td>\n",
       "      <td>Center Shopping Uberlândia</td>\n",
       "      <td>Mochila</td>\n",
       "      <td>4</td>\n",
       "      <td>270</td>\n",
       "      <td>1080</td>\n",
       "    </tr>\n",
       "    <tr>\n",
       "      <th>100996</th>\n",
       "      <td>69996</td>\n",
       "      <td>2019-12-26</td>\n",
       "      <td>Center Shopping Uberlândia</td>\n",
       "      <td>Pulseira Estampa</td>\n",
       "      <td>1</td>\n",
       "      <td>87</td>\n",
       "      <td>87</td>\n",
       "    </tr>\n",
       "    <tr>\n",
       "      <th>100997</th>\n",
       "      <td>69997</td>\n",
       "      <td>2019-12-26</td>\n",
       "      <td>Ribeirão Shopping</td>\n",
       "      <td>Camisa Listrado</td>\n",
       "      <td>1</td>\n",
       "      <td>108</td>\n",
       "      <td>108</td>\n",
       "    </tr>\n",
       "    <tr>\n",
       "      <th>100998</th>\n",
       "      <td>69997</td>\n",
       "      <td>2019-12-26</td>\n",
       "      <td>Ribeirão Shopping</td>\n",
       "      <td>Short Linho</td>\n",
       "      <td>2</td>\n",
       "      <td>133</td>\n",
       "      <td>266</td>\n",
       "    </tr>\n",
       "  </tbody>\n",
       "</table>\n",
       "<p>100999 rows × 7 columns</p>\n",
       "</div>"
      ],
      "text/plain": [
       "        Código Venda       Data                     ID Loja           Produto  \\\n",
       "0                  1 2019-01-01          Iguatemi Esplanada    Sapato Estampa   \n",
       "1                  1 2019-01-01          Iguatemi Esplanada          Camiseta   \n",
       "2                  1 2019-01-01          Iguatemi Esplanada     Sapato Xadrez   \n",
       "3                  2 2019-01-02              Norte Shopping           Relógio   \n",
       "4                  2 2019-01-02              Norte Shopping      Chinelo Liso   \n",
       "...              ...        ...                         ...               ...   \n",
       "100994         69996 2019-12-26  Center Shopping Uberlândia    Short Listrado   \n",
       "100995         69996 2019-12-26  Center Shopping Uberlândia           Mochila   \n",
       "100996         69996 2019-12-26  Center Shopping Uberlândia  Pulseira Estampa   \n",
       "100997         69997 2019-12-26           Ribeirão Shopping   Camisa Listrado   \n",
       "100998         69997 2019-12-26           Ribeirão Shopping       Short Linho   \n",
       "\n",
       "        Quantidade  Valor Unitário  Valor Final  \n",
       "0                1             358          358  \n",
       "1                2             180          360  \n",
       "2                1             368          368  \n",
       "3                3             200          600  \n",
       "4                1              71           71  \n",
       "...            ...             ...          ...  \n",
       "100994           2             102          204  \n",
       "100995           4             270         1080  \n",
       "100996           1              87           87  \n",
       "100997           1             108          108  \n",
       "100998           2             133          266  \n",
       "\n",
       "[100999 rows x 7 columns]"
      ]
     },
     "metadata": {},
     "output_type": "display_data"
    }
   ],
   "source": [
    "# Caminho do arquivo .xlsx\n",
    "file_path = r'C:\\Users\\Tchuba\\Desktop\\Git\\cursos_livres\\Introdução ao Pandas no Python\\Vendas.xlsx'\n",
    "\n",
    "# Importando o DataFrame\n",
    "vendas_df = pd.read_excel(file_path)\n",
    "\n",
    "# Exibindo o DataFrame\n",
    "display(vendas_df)\n"
   ]
  },
  {
   "cell_type": "code",
   "execution_count": null,
   "id": "a4fedf94-7766-40df-8122-27a97453c1bf",
   "metadata": {},
   "outputs": [],
   "source": []
  }
 ],
 "metadata": {
  "kernelspec": {
   "display_name": "Python 3 (ipykernel)",
   "language": "python",
   "name": "python3"
  },
  "language_info": {
   "codemirror_mode": {
    "name": "ipython",
    "version": 3
   },
   "file_extension": ".py",
   "mimetype": "text/x-python",
   "name": "python",
   "nbconvert_exporter": "python",
   "pygments_lexer": "ipython3",
   "version": "3.12.4"
  },
  "panel-cell-order": [
   "2323059a-8811-4e0e-a00e-ac5a4fc739bb",
   "b7b294f9-74a8-4d6e-a7f0-490d6dc64cde",
   "51a1659b-03db-438b-8573-65ba955ff249",
   "3aa81777-2c06-42e5-a7e0-c2dfdbcbe0fd",
   "52efce16-e408-4da2-ade1-acbe8f8ddf83",
   "885d3ca2-1a40-46d5-aac4-b66663b967c2",
   "4d9f4386-3088-42bf-a389-3291858c2bd9"
  ]
 },
 "nbformat": 4,
 "nbformat_minor": 5
}
